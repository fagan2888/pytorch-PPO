{
 "cells": [
  {
   "cell_type": "markdown",
   "metadata": {},
   "source": [
    "# Policy Gradients with PyTorch\n",
    "\n",
    "In this notebook, I'm going to walk through an implementation of policy gradients in PyTorch. Policy gradient methods are a set of deep reinforcement learning algorithms that use neural networks to appoximate the policy function, which actions to take given a state. I was inspired to write this by the impressive results of [OpenAI Five](https://blog.openai.com/openai-five/), a team of agents that learned to play Dota 2 better than amateurs using policy gradients. OpenAI Five uses a variation of policy gradients called Proximal Policy Optimization (PPO) to train the agents. Deep reinforcement learning agents are notoriously unstable and difficult to train, but PPO seems to be the most reliable method currently available. So, this notebook is working out a basic policy gradient implementation, then future notebooks will implement a full-blown PPO agent.\n",
    "\n",
    "\n",
    "I'll be using the CartPole environment from OpenAI Gym for this. The goal here is to move the cart left and right in an attempt to keep the pole upright.\n",
    "\n",
    "<img src='assets/cartpole.gif' width=320px loop>\n",
    "\n",
    "At this point, the CartPole environment seems to be the baseline for deep RL agents. If your agent can't solve CartPole, it can't solve anything.\n",
    "\n",
    "If you are new to reinforcement learning, here are a couple great resources from [Andrej Karpathy](http://karpathy.github.io/2016/05/31/rl/) and [Arthur Juliani](https://medium.com/emergent-future/simple-reinforcement-learning-with-tensorflow-part-0-q-learning-with-tables-and-neural-networks-d195264329d0).\n",
    "\n",
    "First off, import gym and PyTorch (as well as staples Numpy and Matplotlib)."
   ]
  },
  {
   "cell_type": "code",
   "execution_count": 5,
   "metadata": {},
   "outputs": [],
   "source": [
    "%matplotlib inline\n",
    "%config InlineBackend.figure_format = 'retina'\n",
    "\n",
    "import gym\n",
    "import matplotlib.pyplot as plt\n",
    "import numpy as np\n",
    "import torch\n",
    "from torch import nn, optim"
   ]
  },
  {
   "cell_type": "markdown",
   "metadata": {},
   "source": [
    "Creating an environment with Gym is simple, just `env = gym.make('env-name')`. I can get the CartPole environment with `'CartPole-v0'`. You can easily use other environments such as `'LunarLander-v2'` here and modify the code below appropriately."
   ]
  },
  {
   "cell_type": "code",
   "execution_count": 18,
   "metadata": {},
   "outputs": [
    {
     "name": "stdout",
     "output_type": "stream",
     "text": [
      "\u001b[33mWARN: gym.spaces.Box autodetected dtype as <class 'numpy.float32'>. Please provide explicit dtype.\u001b[0m\n"
     ]
    }
   ],
   "source": [
    "env = gym.make('CartPole-v0')"
   ]
  },
  {
   "cell_type": "markdown",
   "metadata": {},
   "source": [
    "In the CartPole environment, there are 4 values describing the state: the pole's angle, the pole's angular velocity, the cart's position, and the cart's velocity. This is called the *state space*, these four values are sufficient to describe the environment for our agent.\n",
    "\n",
    "The cart can make two actions, either move to the left or to the right. This is called the *action space*, the possible actions the agent can take in the environment. Here, the action space is *discrete*. That is, the actions can take on only specific values (move left or move right). The state space on the other hand is *continuous*, the values can be any numbers within some ranges. The actions here could be continuous. Instead of just \"move left\" or \"move right\" the actions could set the acceleration to the left or the acceleration to the right. In another notebook, I'll modify this implementation to work with continuous action spaces."
   ]
  },
  {
   "cell_type": "code",
   "execution_count": 19,
   "metadata": {},
   "outputs": [
    {
     "name": "stdout",
     "output_type": "stream",
     "text": [
      "State space: Box(4,)\n",
      "Action space: Discrete(2)\n"
     ]
    }
   ],
   "source": [
    "print(f\"State space: {env.observation_space}\")\n",
    "print(f\"Action space: {env.action_space}\")"
   ]
  },
  {
   "cell_type": "markdown",
   "metadata": {},
   "source": [
    "What we want to do is find a *policy* that looks at the current state and makes a prediction about which action to take. This can be thought of as a function that takes the state as an input and returns a probability distribution for the actions. Mathematically, this is represented by $p\\left(y_i \\mid x_i\\right)$ where $x_i$ is the state and $y_i$ is the action for some trial $i$.\n",
    "\n",
    "<img src='assets/policy.svg'>\n",
    "\n",
    "In the example shown above, we have a state $x_i$ and our policy tells us the probabilities to take our two actions, 0.8 for action 1 and 0.2 for action 2. Based on those probabilities, the agent will choose an action stochastically. That is, the action will be chosen randomly according to the probabilities from our policy: there is an 80% chance the agent will perform action 1 and a 20% chance the agent will perform action 2.\n",
    "\n",
    "The goal here is to find a policy where our agent performs the task as well as possible. Neural networks with non-linear activation functions have a nice feature where they approximate arbitrary functions. This means we can train a neural network to give us our policy function $p\\left(y_i \\mid x_i\\right)$. The goal is to give our network a state, $x_i$, and have it return a vector of probabilities for the action.  \n",
    "\n",
    "The network will have a number of inputs equal to the dimension of the state space and a number of outputs equal to the dimensions of the action space. To add in non-linearity, I'll use a single hidden layer with a ReLU activation. The network might perform better with more layers and more units, feel free to modify this code and experiment with the network architecture.\n",
    "\n",
    "We can train this network by turning our reinforcement learning problem into a supervised learning problem, discussed in the next section."
   ]
  },
  {
   "cell_type": "code",
   "execution_count": 8,
   "metadata": {},
   "outputs": [],
   "source": [
    "# Creating a class for the agent\n",
    "class Agent:\n",
    "    def __init__(self, n_states, n_hidden, n_actions, lr=0.003):\n",
    "        \n",
    "        # Define the agent's network\n",
    "        self.net = nn.Sequential(nn.Linear(n_states, n_hidden),\n",
    "                                 nn.ReLU(),\n",
    "                                 nn.Linear(n_hidden, n_actions),\n",
    "                                 nn.Softmax(dim=0))\n",
    "        \n",
    "        # How we're optimizing the network\n",
    "        self.opt = optim.Adam(self.net.parameters(), lr=lr)\n",
    "        \n",
    "    def predict(self, observation):\n",
    "        \"\"\" Given an observation, a state, return a probability distribution\n",
    "            of actions\n",
    "        \"\"\"\n",
    "        state = torch.tensor(observation, dtype=torch.float32)\n",
    "        actions = agent.net(state)\n",
    "        \n",
    "        return actions\n",
    "\n",
    "    def update(self, loss):\n",
    "        \"\"\" Update the agent's network given a loss \"\"\"\n",
    "        self.opt.zero_grad()\n",
    "        loss.backward()\n",
    "        self.opt.step()"
   ]
  },
  {
   "cell_type": "markdown",
   "metadata": {},
   "source": [
    "Since actions lead to later possible rewards, we want to propagate those rewards back to earlier actions. Good actions early on should be weighted more than later actions since they contribute more to the overall sequence of actions. \n",
    "\n",
    "TODO: Will need a better description here with some diagrams"
   ]
  },
  {
   "cell_type": "code",
   "execution_count": 9,
   "metadata": {},
   "outputs": [],
   "source": [
    "def discount_rewards(rewards, gamma=0.99):\n",
    "    discounted = []\n",
    "    R = 0\n",
    "    for r in rewards[::-1]:\n",
    "        R = r + gamma * R\n",
    "        discounted.insert(0, R)\n",
    "        \n",
    "    # Now normalize\n",
    "    discounted = np.array(discounted)\n",
    "    normed = (discounted - discounted.mean())/discounted.std()\n",
    "    \n",
    "    return normed"
   ]
  },
  {
   "cell_type": "markdown",
   "metadata": {},
   "source": [
    "TODO: Describe training procedure here"
   ]
  },
  {
   "cell_type": "code",
   "execution_count": null,
   "metadata": {},
   "outputs": [],
   "source": [
    "agent = Agent(4, 128, 2, lr=0.003)\n",
    "total_episodes = 5000\n",
    "max_steps = 999\n",
    "solved_reward = 195\n",
    "\n",
    "print_every = 10\n",
    "update_every = 5\n",
    "replay = {'actions':[], 'rewards':[]}\n",
    "render = True\n",
    "reward_log = []\n",
    "\n",
    "ii = 0\n",
    "while ii < total_episodes:\n",
    "    state = env.reset()\n",
    "    rewards, actions = [], []\n",
    "    for t in range(max_steps):\n",
    "        # Have our agent predict an action from the state\n",
    "        action_ps = agent.predict(state)\n",
    "        action = torch.multinomial(action_ps, 1).item()\n",
    "        actions.append(action_ps[action].unsqueeze(0))\n",
    "        \n",
    "        # Using this action, get the next state and the reward\n",
    "        state, reward, done, _ = env.step(action)\n",
    "        rewards.append(reward)\n",
    "        \n",
    "        if render and ii % print_every == 0:\n",
    "            env.render()\n",
    "            \n",
    "        if done or t == (max_steps - 1):\n",
    "            # Record experiences\n",
    "            reward_log.append(sum(rewards))\n",
    "            if ii % print_every == 0:\n",
    "                print(sum(rewards))\n",
    "            \n",
    "            losses = []\n",
    "            rewards = discount_rewards(rewards)\n",
    "            \n",
    "            replay['actions'].extend(actions)\n",
    "            replay['rewards'].extend(rewards)\n",
    "            \n",
    "            # Update our agent with the experiences\n",
    "            if ii % update_every == 0:\n",
    "                for a, r in zip(*replay.values()):\n",
    "                    losses.append(-torch.log(a)*r)\n",
    "                loss = torch.cat(losses).sum()\n",
    "                agent.update(loss)\n",
    "                \n",
    "                replay['actions'], replay['rewards'] = [], []\n",
    "            \n",
    "            break\n",
    "            \n",
    "    if sum(reward_log[-100:])/100 > solved_reward:\n",
    "        print(f\"Environment solved in {ii-100} episodes with a reward of {np.mean(reward_log[-100:])}\")\n",
    "        break\n",
    "        \n",
    "    state = env.reset()\n",
    "    ii += 1"
   ]
  },
  {
   "cell_type": "markdown",
   "metadata": {},
   "source": [
    "**Note:** This plot of the rewards is for the Lunar Lander environment"
   ]
  },
  {
   "cell_type": "code",
   "execution_count": 14,
   "metadata": {},
   "outputs": [
    {
     "data": {
      "text/plain": [
       "[<matplotlib.lines.Line2D at 0x11c30d048>]"
      ]
     },
     "execution_count": 14,
     "metadata": {},
     "output_type": "execute_result"
    },
    {
     "data": {
      "image/png": "[encoded data removed]",
      "text/plain": [
       "<Figure size 432x288 with 1 Axes>"
      ]
     },
     "metadata": {
      "image/png": {
       "height": 250,
       "width": 385
      }
     },
     "output_type": "display_data"
    }
   ],
   "source": [
    "plt.plot(reward_log)"
   ]
  },
  {
   "cell_type": "markdown",
   "metadata": {},
   "source": [
    "Here I'm just going to have our trained agent land a few times so I can make a video/gif."
   ]
  },
  {
   "cell_type": "code",
   "execution_count": 16,
   "metadata": {},
   "outputs": [],
   "source": [
    "trials = 10\n",
    "max_steps = 999\n",
    "\n",
    "for ii in range(trials):\n",
    "    state = env.reset()\n",
    "    # Have our agent predict an action from the state\n",
    "    for ii in range(max_steps):\n",
    "        action_ps = agent.predict(state)\n",
    "        action = torch.multinomial(action_ps, 1).item()\n",
    "\n",
    "        # Get the next state and the reward\n",
    "        state, reward, done, _ = env.step(action)\n",
    "        env.render()\n",
    "\n",
    "        if done:\n",
    "            break"
   ]
  }
 ],
 "metadata": {
  "kernelspec": {
   "display_name": "Python 3",
   "language": "python",
   "name": "python3"
  },
  "language_info": {
   "codemirror_mode": {
    "name": "ipython",
    "version": 3
   },
   "file_extension": ".py",
   "mimetype": "text/x-python",
   "name": "python",
   "nbconvert_exporter": "python",
   "pygments_lexer": "ipython3",
   "version": "3.6.5"
  }
 },
 "nbformat": 4,
 "nbformat_minor": 2
}
